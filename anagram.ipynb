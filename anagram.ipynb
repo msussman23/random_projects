{
 "cells": [
  {
   "cell_type": "code",
   "execution_count": 32,
   "metadata": {},
   "outputs": [
    {
     "name": "stdout",
     "output_type": "stream",
     "text": [
      "List of Primes:\n",
      "[2, 3, 5, 7, 11, 13, 17, 19, 23, 29, 31, 37, 41, 43, 47, 53, 59, 61, 67, 71, 73, 79, 83, 89, 97, 101]\n",
      "---------------\n",
      "Letter Lookup:\n",
      "{'a': 2, 'b': 3, 'c': 5, 'd': 7, 'e': 11, 'f': 13, 'g': 17, 'h': 19, 'i': 23, 'j': 29, 'k': 31, 'l': 37, 'm': 41, 'n': 43, 'o': 47, 'p': 53, 'q': 59, 'r': 61, 's': 67, 't': 71, 'u': 73, 'v': 79, 'w': 83, 'x': 89, 'y': 97, 'z': 101}\n",
      "--------------\n"
     ]
    }
   ],
   "source": [
    "# set up prime number hash first\n",
    "\n",
    "# find first 26 prime numbers\n",
    "number = 1\n",
    "prime_list = []\n",
    "while(len(prime_list) < 26):\n",
    "    number += 1\n",
    "    \n",
    "    countdown = round(number**0.5)\n",
    "    while(True):\n",
    "    \n",
    "        if (countdown == 1):\n",
    "            prime_list.append(number)\n",
    "            break\n",
    "    \n",
    "        if (int(number / countdown) == number / countdown):\n",
    "            break\n",
    "    \n",
    "        countdown -= 1\n",
    "    \n",
    "\n",
    "print(\"List of Primes:\")\n",
    "print(prime_list)\n",
    "print(\"---------------\")\n",
    "\n",
    "# make letter lookup hash\n",
    "\n",
    "character = 'a'\n",
    "letter_lookup = {}\n",
    "\n",
    "for i in range(len(prime_list)):\n",
    "    letter_lookup[character] = prime_list[i]\n",
    "    \n",
    "    character = chr(ord(character)+1)\n",
    "    \n",
    "print(\"Letter Lookup:\")\n",
    "print(letter_lookup)\n",
    "print(\"--------------\")"
   ]
  },
  {
   "cell_type": "code",
   "execution_count": 42,
   "metadata": {},
   "outputs": [
    {
     "name": "stdout",
     "output_type": "stream",
     "text": [
      "Word Lookup:\n",
      "{5593: ['dog'], 710: ['cat', 'act'], 2286526: ['apple'], 29463: ['bird'], 190330126: ['tundra', 'undart']}\n",
      "------------\n"
     ]
    }
   ],
   "source": [
    "word_list = [\"dog\", \"cat\", \"apple\", \"bird\", \"tundra\", \"act\", \"undart\"]\n",
    "\n",
    "# encode word list, save in a word lookup hash\n",
    "word_lookup = {}\n",
    "\n",
    "def encode_word(word):\n",
    "    word_value = 1\n",
    "    for character in word:\n",
    "        word_value *= letter_lookup[character]\n",
    "    return word_value\n",
    "\n",
    "\n",
    "for word in word_list:\n",
    "    word_value = encode_word(word)\n",
    "\n",
    "    if (word_value in word_lookup):\n",
    "        word_lookup[word_value].append(word)\n",
    "    else:\n",
    "        word_lookup[word_value] = [word]\n",
    "        \n",
    "print(\"Word Lookup:\")\n",
    "print(word_lookup)\n",
    "print(\"------------\")"
   ]
  },
  {
   "cell_type": "code",
   "execution_count": 43,
   "metadata": {},
   "outputs": [
    {
     "name": "stdout",
     "output_type": "stream",
     "text": [
      "Anagram found: ['cat', 'act']\n"
     ]
    }
   ],
   "source": [
    "def check_anagram(word):\n",
    "    word_value = encode_word(word)\n",
    "    \n",
    "    if(word_value in word_lookup):\n",
    "        print(f\"Anagram found: {word_lookup[word_value]}\")\n",
    "    else:\n",
    "        print(\"No anagram found.\")\n",
    "        \n",
    "    return\n",
    "\n",
    "test_word = \"tac\"\n",
    "\n",
    "check_anagram(test_word)"
   ]
  },
  {
   "cell_type": "code",
   "execution_count": null,
   "metadata": {},
   "outputs": [],
   "source": []
  },
  {
   "cell_type": "code",
   "execution_count": null,
   "metadata": {},
   "outputs": [],
   "source": []
  }
 ],
 "metadata": {
  "kernelspec": {
   "display_name": "Python 3",
   "language": "python",
   "name": "python3"
  },
  "language_info": {
   "codemirror_mode": {
    "name": "ipython",
    "version": 3
   },
   "file_extension": ".py",
   "mimetype": "text/x-python",
   "name": "python",
   "nbconvert_exporter": "python",
   "pygments_lexer": "ipython3",
   "version": "3.7.4"
  }
 },
 "nbformat": 4,
 "nbformat_minor": 2
}

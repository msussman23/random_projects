{
 "cells": [
  {
   "cell_type": "code",
   "execution_count": 63,
   "metadata": {},
   "outputs": [
    {
     "data": {
      "text/plain": [
       "<BarContainer object of 101 artists>"
      ]
     },
     "execution_count": 63,
     "metadata": {},
     "output_type": "execute_result"
    },
    {
     "data": {
      "image/png": "[encoded data removed]",
      "text/plain": [
       "<Figure size 1080x720 with 1 Axes>"
      ]
     },
     "metadata": {
      "needs_background": "light"
     },
     "output_type": "display_data"
    }
   ],
   "source": [
    "import numpy as np\n",
    "import matplotlib.pyplot as pyp\n",
    "\n",
    "\n",
    "# assume three states that can all transition to each other with some probability on a given timestep;\n",
    "# calculate the steady-state solution\n",
    "#\n",
    "# Transition probability matrix has the form:\n",
    "#\n",
    "#                       Transition from...\n",
    "#                          A     B     C\n",
    "#                     A   0.5   0.1   0.3\n",
    "#   Transition to...  B   0.2   0.1   0.6\n",
    "#                     C   0.3   0.8   0.1\n",
    "#\n",
    "# Note each row should sum to 100%\n",
    "\n",
    "\n",
    "class markov_system:\n",
    "    def __init__(self):\n",
    "        self.transition_matrix = [[0.5, 0.1, 0.3],\n",
    "                                  [0.2, 0.1, 0.6],\n",
    "                                  [0.3, 0.8, 0.1]]\n",
    "        self.current_system = [1000, 0, 0]\n",
    "        self.num_iterations = 100\n",
    "        return\n",
    "        \n",
    "    def timestep(self):\n",
    "        new_system = [0, 0, 0]\n",
    "        \n",
    "        for state in range(len(self.current_system)):\n",
    "            for each_unit in range(self.current_system[state]):\n",
    "                rv = np.random.uniform()\n",
    "                \n",
    "                if (rv < self.transition_matrix[0][state]):\n",
    "                    new_system[0] += 1\n",
    "                elif (rv < (self.transition_matrix[0][state] + self.transition_matrix[1][state])):\n",
    "                    new_system[1] += 1\n",
    "                else:\n",
    "                    new_system[2] += 1\n",
    "                    \n",
    "        self.current_system = new_system\n",
    "        \n",
    "        return \n",
    "        \n",
    "\n",
    "markov = markov_system()\n",
    "system_history = np.array([markov.current_system])\n",
    "\n",
    "\n",
    "for i in range(markov.num_iterations):\n",
    "    markov.timestep()\n",
    "    system_history = np.append(system_history, [markov.current_system], axis = 0)\n",
    "    \n",
    "\n",
    "pyp.figure(figsize = (15, 10))\n",
    "    \n",
    "index = range(len(system_history.T[0]))\n",
    "\n",
    "pyp.bar(index, system_history.T[0], 1)\n",
    "pyp.bar(index, system_history.T[1], 1, bottom = system_history.T[0])\n",
    "pyp.bar(index, system_history.T[2], 1, bottom = (system_history.T[0] + system_history.T[1]))\n"
   ]
  },
  {
   "cell_type": "code",
   "execution_count": 64,
   "metadata": {},
   "outputs": [],
   "source": [
    "# Steady state solution:\n",
    "#\n",
    "# For some [X, Y, Z],\n",
    "#\n",
    "# | X |    | p11 p12 p13 | | X |\n",
    "# | Y | =  | p21 p22 p23 | | Y |\n",
    "# | Z |    | p31 p32 p33 | | Z |\n",
    "#\n",
    "# X = X*p11 + Y*p12 + Z*p13\n",
    "# Y = X*p21 + Y*p22 + Z*p23\n",
    "# Z = X*p31 + Y*p32 + Z*p33\n",
    "# X + Y + Z = 1\n",
    "#\n"
   ]
  },
  {
   "cell_type": "code",
   "execution_count": 68,
   "metadata": {},
   "outputs": [
    {
     "name": "stdout",
     "output_type": "stream",
     "text": [
      "-4.440892098500636e-18\n",
      "(array([1., 0.]), array([[ 0.83205029, -0.70710678],\n",
      "       [ 0.5547002 ,  0.70710678]]))\n"
     ]
    }
   ],
   "source": [
    "matrix = np.array(markov.transition_matrix)\n",
    "\n",
    "matrix = [[0.6, 0.6],\n",
    "          [0.4, 0.4]]\n",
    "\n",
    "print(np.linalg.det(matrix))\n",
    "print(np.linalg.eig(matrix))"
   ]
  },
  {
   "cell_type": "code",
   "execution_count": null,
   "metadata": {},
   "outputs": [],
   "source": []
  },
  {
   "cell_type": "code",
   "execution_count": null,
   "metadata": {},
   "outputs": [],
   "source": []
  }
 ],
 "metadata": {
  "kernelspec": {
   "display_name": "Python 3",
   "language": "python",
   "name": "python3"
  },
  "language_info": {
   "codemirror_mode": {
    "name": "ipython",
    "version": 3
   },
   "file_extension": ".py",
   "mimetype": "text/x-python",
   "name": "python",
   "nbconvert_exporter": "python",
   "pygments_lexer": "ipython3",
   "version": "3.7.4"
  }
 },
 "nbformat": 4,
 "nbformat_minor": 2
}
